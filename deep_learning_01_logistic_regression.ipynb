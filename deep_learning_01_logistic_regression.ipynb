{
 "cells": [
  {
   "cell_type": "code",
   "execution_count": 9,
   "metadata": {},
   "outputs": [],
   "source": [
    "import matplotlib.pyplot as plt\n",
    "import pandas as pd\n",
    "import numpy as np\n"
   ]
  },
  {
   "cell_type": "markdown",
   "metadata": {},
   "source": [
    "### create a plot of sigmoid function"
   ]
  },
  {
   "cell_type": "code",
   "execution_count": 94,
   "metadata": {},
   "outputs": [
    {
     "data": {
      "text/plain": [
       "Text(0, 0.5, 'σ (z)')"
      ]
     },
     "execution_count": 94,
     "metadata": {},
     "output_type": "execute_result"
    },
    {
     "data": {
      "image/png": "[encoded data removed]",
      "text/plain": [
       "<Figure size 432x288 with 1 Axes>"
      ]
     },
     "metadata": {
      "needs_background": "light"
     },
     "output_type": "display_data"
    }
   ],
   "source": [
    "z = np.arange(-7, 7, 0.1)\n",
    "y = 1 / (1 + np.exp(-z))\n",
    "plt.plot(z, y)\n",
    "plt.xlabel('z')\n",
    "plt.ylabel('\\u03C3 (z)')"
   ]
  },
  {
   "cell_type": "markdown",
   "metadata": {},
   "source": [
    "### creating data for the manager-employee classifier"
   ]
  },
  {
   "cell_type": "code",
   "execution_count": 95,
   "metadata": {},
   "outputs": [],
   "source": [
    "# create the dataframe\n",
    "data = [[130000, 5, 'manager'], [150000, 6, 'manager'], [100000, 2, 'employee'], [90000, 3, 'employee'], [80000, 1, 'employee']]\n",
    "df_data = pd.DataFrame(data, columns=('Salary', 'MeetingsPerDay', 'ManagerOrNot'))"
   ]
  },
  {
   "cell_type": "code",
   "execution_count": 96,
   "metadata": {},
   "outputs": [
    {
     "name": "stdout",
     "output_type": "stream",
     "text": [
      "   Salary  MeetingsPerDay ManagerOrNot\n",
      "0  130000               5      manager\n",
      "1  150000               6      manager\n",
      "2  100000               2     employee\n",
      "3   90000               3     employee\n",
      "4   80000               1     employee\n"
     ]
    }
   ],
   "source": [
    "print(df_data)"
   ]
  },
  {
   "cell_type": "code",
   "execution_count": 97,
   "metadata": {},
   "outputs": [],
   "source": [
    "# create the input X\n",
    "df_X = df_data[['Salary', 'MeetingsPerDay']]\n",
    "\n",
    "# create the output y\n",
    "df_y = df_data[['ManagerOrNot']]"
   ]
  },
  {
   "cell_type": "code",
   "execution_count": 98,
   "metadata": {},
   "outputs": [
    {
     "name": "stdout",
     "output_type": "stream",
     "text": [
      "   Salary  MeetingsPerDay\n",
      "0  130000               5\n",
      "1  150000               6\n",
      "2  100000               2\n",
      "3   90000               3\n",
      "4   80000               1\n",
      "  ManagerOrNot\n",
      "0      manager\n",
      "1      manager\n",
      "2     employee\n",
      "3     employee\n",
      "4     employee\n"
     ]
    }
   ],
   "source": [
    "print(df_X)\n",
    "print(df_y)"
   ]
  },
  {
   "cell_type": "markdown",
   "metadata": {},
   "source": [
    "### plot the manager-employee dataset"
   ]
  },
  {
   "cell_type": "code",
   "execution_count": 99,
   "metadata": {},
   "outputs": [
    {
     "data": {
      "text/plain": [
       "Text(0, 0.5, 'Meetings per Day')"
      ]
     },
     "execution_count": 99,
     "metadata": {},
     "output_type": "execute_result"
    },
    {
     "data": {
      "image/png": "[encoded data removed]",
      "text/plain": [
       "<Figure size 432x288 with 1 Axes>"
      ]
     },
     "metadata": {
      "needs_background": "light"
     },
     "output_type": "display_data"
    }
   ],
   "source": [
    "# create color code\n",
    "color = ['red', 'red', 'green', 'green', 'green']\n",
    "plt.scatter(df_X['Salary'], df_X['MeetingsPerDay'], c = color)\n",
    "plt.xlabel('Salary')\n",
    "plt.ylabel('Meetings per Day')"
   ]
  },
  {
   "cell_type": "markdown",
   "metadata": {},
   "source": [
    "### solve for the logistic regression weights and intercept"
   ]
  },
  {
   "cell_type": "code",
   "execution_count": 92,
   "metadata": {},
   "outputs": [
    {
     "name": "stderr",
     "output_type": "stream",
     "text": [
      "c:\\ProgramData\\Anaconda3\\lib\\site-packages\\sklearn\\utils\\validation.py:73: DataConversionWarning: A column-vector y was passed when a 1d array was expected. Please change the shape of y to (n_samples, ), for example using ravel().\n",
      "  return f(**kwargs)\n"
     ]
    }
   ],
   "source": [
    "from sklearn.linear_model import LogisticRegression\n",
    "\n",
    "clf = LogisticRegression().fit(df_X, df_y)"
   ]
  },
  {
   "cell_type": "code",
   "execution_count": 93,
   "metadata": {},
   "outputs": [
    {
     "name": "stdout",
     "output_type": "stream",
     "text": [
      "[[-3.19008423e-05  1.03184231e+00]]\n",
      "[-0.23989903]\n"
     ]
    }
   ],
   "source": [
    "print(clf.coef_)\n",
    "print(clf.intercept_)"
   ]
  },
  {
   "cell_type": "code",
   "execution_count": 77,
   "metadata": {},
   "outputs": [
    {
     "data": {
      "text/plain": [
       "array(['manager', 'manager', 'employee', 'employee', 'employee'],\n",
       "      dtype=object)"
      ]
     },
     "execution_count": 77,
     "metadata": {},
     "output_type": "execute_result"
    }
   ],
   "source": [
    "clf.predict(df_X)"
   ]
  },
  {
   "cell_type": "code",
   "execution_count": 78,
   "metadata": {},
   "outputs": [
    {
     "data": {
      "text/plain": [
       "array([[0.31600274, 0.68399726],\n",
       "       [0.23757361, 0.76242639],\n",
       "       [0.79678149, 0.20321851],\n",
       "       [0.5038619 , 0.4961381 ],\n",
       "       [0.8532252 , 0.1467748 ]])"
      ]
     },
     "execution_count": 78,
     "metadata": {},
     "output_type": "execute_result"
    }
   ],
   "source": [
    "clf.predict_proba(df_X)"
   ]
  },
  {
   "cell_type": "code",
   "execution_count": 80,
   "metadata": {},
   "outputs": [
    {
     "data": {
      "text/plain": [
       "array([[0.38860149, 0.61139851]])"
      ]
     },
     "execution_count": 80,
     "metadata": {},
     "output_type": "execute_result"
    }
   ],
   "source": [
    "clf.predict_proba([[140000, 5]])"
   ]
  },
  {
   "cell_type": "markdown",
   "metadata": {},
   "source": [
    "### produce the boundary line"
   ]
  },
  {
   "cell_type": "code",
   "execution_count": 91,
   "metadata": {},
   "outputs": [
    {
     "name": "stderr",
     "output_type": "stream",
     "text": [
      "c:\\ProgramData\\Anaconda3\\lib\\site-packages\\ipykernel_launcher.py:14: UserWarning: The following kwargs were not used by contour: 'cmp'\n",
      "  \n"
     ]
    },
    {
     "data": {
      "text/plain": [
       "Text(0, 0.5, 'Meetings per Day')"
      ]
     },
     "execution_count": 91,
     "metadata": {},
     "output_type": "execute_result"
    },
    {
     "data": {
      "image/png": "[encoded data removed]",
      "text/plain": [
       "<Figure size 432x288 with 1 Axes>"
      ]
     },
     "metadata": {
      "needs_background": "light"
     },
     "output_type": "display_data"
    }
   ],
   "source": [
    "x1grid = np.arange(df_X['Salary'].min() - 20000, df_X['Salary'].max() + 20000, 5000)\n",
    "x2grid = np.arange(df_X['MeetingsPerDay'].min() - 1, df_X['MeetingsPerDay'].max() + 1, 0.1)\n",
    "\n",
    "xx, yy = np.meshgrid(x1grid, x2grid)\n",
    "\n",
    "r1, r2 = xx.flatten(), yy.flatten()\n",
    "r1, r2 = r1.reshape(len(r1), 1), r2.reshape(len(r2), 1)\n",
    "\n",
    "grid = np.hstack((r1, r2))\n",
    "\n",
    "zz = clf.predict(grid).reshape(xx.shape) == 'manager'\n",
    "\n",
    "## plot the grid\n",
    "plt.contourf(xx, yy, zz, cmp = 'Paired')\n",
    "plt.scatter(df_X['Salary'], df_X['MeetingsPerDay'], c = color)\n",
    "plt.xlabel('Salary')\n",
    "plt.ylabel('Meetings per Day')\n"
   ]
  },
  {
   "cell_type": "code",
   "execution_count": null,
   "metadata": {},
   "outputs": [],
   "source": []
  }
 ],
 "metadata": {
  "kernelspec": {
   "display_name": "base",
   "language": "python",
   "name": "python3"
  },
  "language_info": {
   "codemirror_mode": {
    "name": "ipython",
    "version": 3
   },
   "file_extension": ".py",
   "mimetype": "text/x-python",
   "name": "python",
   "nbconvert_exporter": "python",
   "pygments_lexer": "ipython3",
   "version": "3.7.7"
  },
  "orig_nbformat": 4
 },
 "nbformat": 4,
 "nbformat_minor": 2
}
